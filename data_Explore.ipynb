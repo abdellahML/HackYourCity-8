{
 "cells": [
  {
   "cell_type": "code",
   "execution_count": 1,
   "metadata": {},
   "outputs": [],
   "source": [
    "import pandas as pd"
   ]
  },
  {
   "cell_type": "code",
   "execution_count": 2,
   "metadata": {},
   "outputs": [],
   "source": [
    "df = pd.read_csv(\"assets/festivMF.csv\")"
   ]
  },
  {
   "cell_type": "code",
   "execution_count": 5,
   "metadata": {},
   "outputs": [],
   "source": [
    "df.drop(\"Unnamed: 0\", inplace=True,axis=1)"
   ]
  },
  {
   "cell_type": "code",
   "execution_count": 6,
   "metadata": {},
   "outputs": [
    {
     "data": {
      "text/html": [
       "<div>\n",
       "<style scoped>\n",
       "    .dataframe tbody tr th:only-of-type {\n",
       "        vertical-align: middle;\n",
       "    }\n",
       "\n",
       "    .dataframe tbody tr th {\n",
       "        vertical-align: top;\n",
       "    }\n",
       "\n",
       "    .dataframe thead th {\n",
       "        text-align: right;\n",
       "    }\n",
       "</style>\n",
       "<table border=\"1\" class=\"dataframe\">\n",
       "  <thead>\n",
       "    <tr style=\"text-align: right;\">\n",
       "      <th></th>\n",
       "      <th>id</th>\n",
       "      <th>titre</th>\n",
       "      <th>description</th>\n",
       "      <th>date_fin</th>\n",
       "      <th>date_debut</th>\n",
       "      <th>date_affichage</th>\n",
       "      <th>lieu_nom</th>\n",
       "      <th>lieu_num</th>\n",
       "      <th>adresse</th>\n",
       "      <th>localite</th>\n",
       "      <th>...</th>\n",
       "      <th>latitude</th>\n",
       "      <th>longitude</th>\n",
       "      <th>info</th>\n",
       "      <th>telephone</th>\n",
       "      <th>gsm</th>\n",
       "      <th>website</th>\n",
       "      <th>email</th>\n",
       "      <th>fax</th>\n",
       "      <th>photo</th>\n",
       "      <th>geopoint</th>\n",
       "    </tr>\n",
       "  </thead>\n",
       "  <tbody>\n",
       "    <tr>\n",
       "      <th>0</th>\n",
       "      <td>258254</td>\n",
       "      <td>Marché public</td>\n",
       "      <td>0</td>\n",
       "      <td>2021-03-01</td>\n",
       "      <td>2021-03-01</td>\n",
       "      <td>01/03</td>\n",
       "      <td>Place aux Foires</td>\n",
       "      <td>0.0</td>\n",
       "      <td>0</td>\n",
       "      <td>Marche-en-Famenne</td>\n",
       "      <td>...</td>\n",
       "      <td>50.225686</td>\n",
       "      <td>5.344333</td>\n",
       "      <td>Tous les 1er et 3ème lundi du mois. 08:00-13:00.</td>\n",
       "      <td>0</td>\n",
       "      <td>0.0</td>\n",
       "      <td>0</td>\n",
       "      <td>0</td>\n",
       "      <td>0</td>\n",
       "      <td>http://www.ftlb.be/dbimages/evenement/event258...</td>\n",
       "      <td>50.2256861,5.3443331</td>\n",
       "    </tr>\n",
       "    <tr>\n",
       "      <th>1</th>\n",
       "      <td>183628</td>\n",
       "      <td>Spectacle (théâtre): Notre-Dame de Paris</td>\n",
       "      <td>L’histoire commence le 15 avril 2019. La cathé...</td>\n",
       "      <td>2021-03-18</td>\n",
       "      <td>2021-03-18</td>\n",
       "      <td>18/03</td>\n",
       "      <td>La Maison de la Culture Famenne-Ardenne</td>\n",
       "      <td>74.0</td>\n",
       "      <td>Chaussée de l'Ourthe</td>\n",
       "      <td>Marche-en-Famenne</td>\n",
       "      <td>...</td>\n",
       "      <td>50.231735</td>\n",
       "      <td>5.349976</td>\n",
       "      <td>A 20:30. Durée: 1h25. Plus d'informations à su...</td>\n",
       "      <td>+32(0)84 32 73 86</td>\n",
       "      <td>0.0</td>\n",
       "      <td>http://www.maisondelaculture.marche.be/</td>\n",
       "      <td>billetterie.mcfa@marche.be</td>\n",
       "      <td>0</td>\n",
       "      <td>http://www.ftlb.be/dbimages/evenement/event183...</td>\n",
       "      <td>50.231734983326,5.3499756291442999</td>\n",
       "    </tr>\n",
       "    <tr>\n",
       "      <th>2</th>\n",
       "      <td>183630</td>\n",
       "      <td>Concert (jeune public): Taama</td>\n",
       "      <td>Taama – 'voyage' en langue dioula – réunit une...</td>\n",
       "      <td>2021-03-21</td>\n",
       "      <td>2021-03-21</td>\n",
       "      <td>21/03</td>\n",
       "      <td>La Maison de la Culture Famenne-Ardenne</td>\n",
       "      <td>74.0</td>\n",
       "      <td>Chaussée de l'Ourthe</td>\n",
       "      <td>Marche-en-Famenne</td>\n",
       "      <td>...</td>\n",
       "      <td>50.231735</td>\n",
       "      <td>5.349976</td>\n",
       "      <td>A 15:00. Plus d'informations à suivre.</td>\n",
       "      <td>+32(0)84 32 73 86</td>\n",
       "      <td>0.0</td>\n",
       "      <td>http://www.maisondelaculture.marche.be/</td>\n",
       "      <td>billetterie.mcfa@marche.be</td>\n",
       "      <td>0</td>\n",
       "      <td>http://www.ftlb.be/dbimages/evenement/event183...</td>\n",
       "      <td>50.231734983326,5.3499756291442999</td>\n",
       "    </tr>\n",
       "    <tr>\n",
       "      <th>3</th>\n",
       "      <td>257194</td>\n",
       "      <td>!!!REPORT!!! Concert (imitatrice): Véronic Dic...</td>\n",
       "      <td>Encensée par la critique pour ses deux dernier...</td>\n",
       "      <td>2021-03-24</td>\n",
       "      <td>2021-03-24</td>\n",
       "      <td>24/03</td>\n",
       "      <td>Wallonie Expo (WEX)</td>\n",
       "      <td>1.0</td>\n",
       "      <td>Rue des Deux Provinces</td>\n",
       "      <td>Marche-en-Famenne</td>\n",
       "      <td>...</td>\n",
       "      <td>50.243666</td>\n",
       "      <td>5.336957</td>\n",
       "      <td>A 20:00. Ouverture des portes 1h30 avant le dé...</td>\n",
       "      <td>+32(0)84 34 08 00</td>\n",
       "      <td>0.0</td>\n",
       "      <td>http://www.wex.be</td>\n",
       "      <td>info@wex.be</td>\n",
       "      <td>+32(0)84 34 08 09</td>\n",
       "      <td>http://www.ftlb.be/dbimages/evenement/event257...</td>\n",
       "      <td>50.2436658,5.3369571</td>\n",
       "    </tr>\n",
       "    <tr>\n",
       "      <th>4</th>\n",
       "      <td>258250</td>\n",
       "      <td>Marché public</td>\n",
       "      <td>0</td>\n",
       "      <td>2021-04-19</td>\n",
       "      <td>2021-04-19</td>\n",
       "      <td>19/04</td>\n",
       "      <td>Place aux Foires</td>\n",
       "      <td>0.0</td>\n",
       "      <td>0</td>\n",
       "      <td>Marche-en-Famenne</td>\n",
       "      <td>...</td>\n",
       "      <td>50.225686</td>\n",
       "      <td>5.344333</td>\n",
       "      <td>Tous les 1er et 3ème lundi du mois. 08:00-13:00.</td>\n",
       "      <td>0</td>\n",
       "      <td>0.0</td>\n",
       "      <td>0</td>\n",
       "      <td>0</td>\n",
       "      <td>0</td>\n",
       "      <td>http://www.ftlb.be/dbimages/evenement/event258...</td>\n",
       "      <td>50.2256861,5.3443331</td>\n",
       "    </tr>\n",
       "  </tbody>\n",
       "</table>\n",
       "<p>5 rows × 22 columns</p>\n",
       "</div>"
      ],
      "text/plain": [
       "       id                                              titre  \\\n",
       "0  258254                                      Marché public   \n",
       "1  183628           Spectacle (théâtre): Notre-Dame de Paris   \n",
       "2  183630                      Concert (jeune public): Taama   \n",
       "3  257194  !!!REPORT!!! Concert (imitatrice): Véronic Dic...   \n",
       "4  258250                                      Marché public   \n",
       "\n",
       "                                         description    date_fin  date_debut  \\\n",
       "0                                                  0  2021-03-01  2021-03-01   \n",
       "1  L’histoire commence le 15 avril 2019. La cathé...  2021-03-18  2021-03-18   \n",
       "2  Taama – 'voyage' en langue dioula – réunit une...  2021-03-21  2021-03-21   \n",
       "3  Encensée par la critique pour ses deux dernier...  2021-03-24  2021-03-24   \n",
       "4                                                  0  2021-04-19  2021-04-19   \n",
       "\n",
       "  date_affichage                                 lieu_nom  lieu_num  \\\n",
       "0          01/03                         Place aux Foires       0.0   \n",
       "1          18/03  La Maison de la Culture Famenne-Ardenne      74.0   \n",
       "2          21/03  La Maison de la Culture Famenne-Ardenne      74.0   \n",
       "3          24/03                      Wallonie Expo (WEX)       1.0   \n",
       "4          19/04                         Place aux Foires       0.0   \n",
       "\n",
       "                  adresse           localite  ...   latitude longitude  \\\n",
       "0                       0  Marche-en-Famenne  ...  50.225686  5.344333   \n",
       "1    Chaussée de l'Ourthe  Marche-en-Famenne  ...  50.231735  5.349976   \n",
       "2    Chaussée de l'Ourthe  Marche-en-Famenne  ...  50.231735  5.349976   \n",
       "3  Rue des Deux Provinces  Marche-en-Famenne  ...  50.243666  5.336957   \n",
       "4                       0  Marche-en-Famenne  ...  50.225686  5.344333   \n",
       "\n",
       "                                                info          telephone  gsm  \\\n",
       "0   Tous les 1er et 3ème lundi du mois. 08:00-13:00.                  0  0.0   \n",
       "1  A 20:30. Durée: 1h25. Plus d'informations à su...  +32(0)84 32 73 86  0.0   \n",
       "2             A 15:00. Plus d'informations à suivre.  +32(0)84 32 73 86  0.0   \n",
       "3  A 20:00. Ouverture des portes 1h30 avant le dé...  +32(0)84 34 08 00  0.0   \n",
       "4   Tous les 1er et 3ème lundi du mois. 08:00-13:00.                  0  0.0   \n",
       "\n",
       "                                   website                       email  \\\n",
       "0                                        0                           0   \n",
       "1  http://www.maisondelaculture.marche.be/  billetterie.mcfa@marche.be   \n",
       "2  http://www.maisondelaculture.marche.be/  billetterie.mcfa@marche.be   \n",
       "3                        http://www.wex.be                 info@wex.be   \n",
       "4                                        0                           0   \n",
       "\n",
       "                 fax                                              photo  \\\n",
       "0                  0  http://www.ftlb.be/dbimages/evenement/event258...   \n",
       "1                  0  http://www.ftlb.be/dbimages/evenement/event183...   \n",
       "2                  0  http://www.ftlb.be/dbimages/evenement/event183...   \n",
       "3  +32(0)84 34 08 09  http://www.ftlb.be/dbimages/evenement/event257...   \n",
       "4                  0  http://www.ftlb.be/dbimages/evenement/event258...   \n",
       "\n",
       "                             geopoint  \n",
       "0                50.2256861,5.3443331  \n",
       "1  50.231734983326,5.3499756291442999  \n",
       "2  50.231734983326,5.3499756291442999  \n",
       "3                50.2436658,5.3369571  \n",
       "4                50.2256861,5.3443331  \n",
       "\n",
       "[5 rows x 22 columns]"
      ]
     },
     "execution_count": 6,
     "metadata": {},
     "output_type": "execute_result"
    }
   ],
   "source": [
    "df.head()"
   ]
  },
  {
   "cell_type": "code",
   "execution_count": 57,
   "metadata": {},
   "outputs": [],
   "source": [
    " propositions = df.iloc[2,[1,3,6,9,11]]"
   ]
  },
  {
   "cell_type": "code",
   "execution_count": 58,
   "metadata": {},
   "outputs": [
    {
     "data": {
      "text/plain": [
       "'Concert (jeune public): Taama'"
      ]
     },
     "execution_count": 58,
     "metadata": {},
     "output_type": "execute_result"
    }
   ],
   "source": [
    " propositions[0] #Evebt"
   ]
  },
  {
   "cell_type": "code",
   "execution_count": 59,
   "metadata": {},
   "outputs": [
    {
     "data": {
      "text/plain": [
       "'2021-03-21'"
      ]
     },
     "execution_count": 59,
     "metadata": {},
     "output_type": "execute_result"
    }
   ],
   "source": [
    " propositions[1] #Date"
   ]
  },
  {
   "cell_type": "code",
   "execution_count": 60,
   "metadata": {},
   "outputs": [
    {
     "data": {
      "text/plain": [
       "'La Maison de la Culture Famenne-Ardenne'"
      ]
     },
     "execution_count": 60,
     "metadata": {},
     "output_type": "execute_result"
    }
   ],
   "source": [
    " propositions[2]#Location"
   ]
  },
  {
   "cell_type": "code",
   "execution_count": 61,
   "metadata": {},
   "outputs": [
    {
     "data": {
      "text/plain": [
       "'Marche-en-Famenne'"
      ]
     },
     "execution_count": 61,
     "metadata": {},
     "output_type": "execute_result"
    }
   ],
   "source": [
    " propositions[3] #Ville"
   ]
  },
  {
   "cell_type": "code",
   "execution_count": 62,
   "metadata": {},
   "outputs": [
    {
     "data": {
      "text/plain": [
       "'- Maison de la Culture Famenne-Ardenne (billetterie)'"
      ]
     },
     "execution_count": 62,
     "metadata": {},
     "output_type": "execute_result"
    }
   ],
   "source": [
    " propositions[4] #Infos at#"
   ]
  },
  {
   "cell_type": "code",
   "execution_count": null,
   "metadata": {},
   "outputs": [],
   "source": [
    " propositions[5]"
   ]
  },
  {
   "cell_type": "code",
   "execution_count": null,
   "metadata": {},
   "outputs": [],
   "source": []
  }
 ],
 "metadata": {
  "kernelspec": {
   "display_name": "becode",
   "language": "python",
   "name": "becode"
  },
  "language_info": {
   "codemirror_mode": {
    "name": "ipython",
    "version": 3
   },
   "file_extension": ".py",
   "mimetype": "text/x-python",
   "name": "python",
   "nbconvert_exporter": "python",
   "pygments_lexer": "ipython3",
   "version": "3.6.7"
  }
 },
 "nbformat": 4,
 "nbformat_minor": 4
}
